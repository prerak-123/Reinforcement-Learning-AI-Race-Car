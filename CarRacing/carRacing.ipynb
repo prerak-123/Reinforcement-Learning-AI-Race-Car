{
 "cells": [
  {
   "cell_type": "code",
   "execution_count": 21,
   "metadata": {},
   "outputs": [],
   "source": [
    "import gym\n",
    "import numpy as np\n",
    "import cv2\n",
    "import matplotlib.pyplot as plt\n",
    "import warnings\n",
    "warnings.filterwarnings(\"ignore\")"
   ]
  },
  {
   "cell_type": "code",
   "execution_count": 22,
   "metadata": {},
   "outputs": [],
   "source": [
    "env = gym.make(\"CarRacing-v2\")"
   ]
  },
  {
   "cell_type": "code",
   "execution_count": 23,
   "metadata": {},
   "outputs": [
    {
     "name": "stdout",
     "output_type": "stream",
     "text": [
      "Action Space: Box([-1.  0.  0.], 1.0, (3,), float32)\n",
      "Observation Space: Box(0, 255, (96, 96, 3), uint8)\n",
      "Maximum Episode Steps: 1000\n"
     ]
    },
    {
     "data": {
      "image/png": "[encoded data removed]",
      "text/plain": [
       "<Figure size 640x480 with 1 Axes>"
      ]
     },
     "metadata": {},
     "output_type": "display_data"
    }
   ],
   "source": [
    "print(f\"Action Space: {env.action_space}\")\n",
    "print(f\"Observation Space: {env.observation_space}\")\n",
    "# env.spec.max_episode_steps = 100000\n",
    "print(f\"Maximum Episode Steps: {env.spec.max_episode_steps}\")\n",
    "\n",
    "observation, _ = env.reset()\n",
    "\n",
    "plt.imshow(observation)\n",
    "plt.show()\n"
   ]
  },
  {
   "cell_type": "code",
   "execution_count": 24,
   "metadata": {},
   "outputs": [],
   "source": [
    "def processImage(img):\n",
    "    track = img[:83]\n",
    "    blur = cv2.GaussianBlur(track, (5,5), 0)\n",
    "    greyImg = cv2.cvtColor(blur, cv2.COLOR_BGR2GRAY)\n",
    "    _, thresholdImage = cv2.threshold(greyImg,150,255,cv2.THRESH_BINARY_INV)\n",
    "    return thresholdImage"
   ]
  },
  {
   "cell_type": "markdown",
   "metadata": {},
   "source": [
    "# Action Space\n",
    "\n",
    "[a,b,c]:\n",
    "\n",
    "    a: Steer, Negative is Left, Positive is Right\n",
    "\n",
    "    b: Accelarate\n",
    "    \n",
    "    c: Decelarate\n",
    "\n"
   ]
  },
  {
   "cell_type": "code",
   "execution_count": 25,
   "metadata": {},
   "outputs": [],
   "source": [
    "ACTIONS = {\n",
    "    0: [1, 0, 0],\n",
    "    1: [-1, 0, 0],\n",
    "    2: [0,0,0.8],\n",
    "    3: [0,1,0],\n",
    "    4: [0,0,0]\n",
    "}\n",
    "\n",
    "IMG_DIMENSION = 83*96\n",
    "\n",
    "EPISODES = 1000\n",
    "GAMMA = 0.3\n",
    "LEARNING_RATE = 0.1"
   ]
  },
  {
   "cell_type": "code",
   "execution_count": 26,
   "metadata": {},
   "outputs": [
    {
     "ename": "KeyboardInterrupt",
     "evalue": "",
     "output_type": "error",
     "traceback": [
      "\u001b[0;31m---------------------------------------------------------------------------\u001b[0m",
      "\u001b[0;31mKeyboardInterrupt\u001b[0m                         Traceback (most recent call last)",
      "Cell \u001b[0;32mIn [26], line 9\u001b[0m\n\u001b[1;32m      6\u001b[0m     processedImg \u001b[39m=\u001b[39m processImage(observation)\n\u001b[1;32m      8\u001b[0m     cv2\u001b[39m.\u001b[39mimshow(\u001b[39m\"\u001b[39m\u001b[39mobservation\u001b[39m\u001b[39m\"\u001b[39m, processedImg)\n\u001b[0;32m----> 9\u001b[0m     cv2\u001b[39m.\u001b[39;49mwaitKey(\u001b[39m1\u001b[39;49m)\n\u001b[1;32m     10\u001b[0m     \u001b[39m# env.render()\u001b[39;00m\n\u001b[1;32m     12\u001b[0m cv2\u001b[39m.\u001b[39mdestroyAllWindows()\n",
      "\u001b[0;31mKeyboardInterrupt\u001b[0m: "
     ]
    }
   ],
   "source": [
    "while True:\n",
    "    action = np.random.randint(0,5)\n",
    "    observation, reward, terminated, truncated, info = env.step(ACTIONS[action])\n",
    "    if(terminated):\n",
    "        break\n",
    "    processedImg = processImage(observation)\n",
    "        \n",
    "    cv2.imshow(\"observation\", processedImg)\n",
    "    cv2.waitKey(1)\n",
    "    # env.render()\n",
    "\n",
    "cv2.destroyAllWindows()\n",
    "_, _ = env.reset()"
   ]
  }
 ],
 "metadata": {
  "kernelspec": {
   "display_name": "Python 3 (ipykernel)",
   "language": "python",
   "name": "python3"
  },
  "language_info": {
   "codemirror_mode": {
    "name": "ipython",
    "version": 3
   },
   "file_extension": ".py",
   "mimetype": "text/x-python",
   "name": "python",
   "nbconvert_exporter": "python",
   "pygments_lexer": "ipython3",
   "version": "3.8.10"
  },
  "orig_nbformat": 4,
  "vscode": {
   "interpreter": {
    "hash": "31f2aee4e71d21fbe5cf8b01ff0e069b9275f58929596ceb00d14d90e3e16cd6"
   }
  }
 },
 "nbformat": 4,
 "nbformat_minor": 2
}
