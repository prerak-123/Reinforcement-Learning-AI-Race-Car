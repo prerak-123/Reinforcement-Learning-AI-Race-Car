{
 "cells": [
  {
   "cell_type": "code",
   "execution_count": 427,
   "metadata": {},
   "outputs": [],
   "source": [
    "import gym\n",
    "import numpy as np\n",
    "import cv2\n",
    "import matplotlib.pyplot as plt"
   ]
  },
  {
   "cell_type": "code",
   "execution_count": 428,
   "metadata": {},
   "outputs": [],
   "source": [
    "env = gym.make(\"CarRacing-v2\")"
   ]
  },
  {
   "cell_type": "code",
   "execution_count": 429,
   "metadata": {},
   "outputs": [
    {
     "name": "stdout",
     "output_type": "stream",
     "text": [
      "Action Space: Box([-1.  0.  0.], 1.0, (3,), float32)\n",
      "Observation Space: Box(0, 255, (96, 96, 3), uint8)\n",
      "Maximum Episode Steps: 1000\n"
     ]
    },
    {
     "data": {
      "image/png": "[encoded data removed]",
      "text/plain": [
       "<Figure size 640x480 with 1 Axes>"
      ]
     },
     "metadata": {},
     "output_type": "display_data"
    }
   ],
   "source": [
    "print(f\"Action Space: {env.action_space}\")\n",
    "print(f\"Observation Space: {env.observation_space}\")\n",
    "# env.spec.max_episode_steps = 100000\n",
    "print(f\"Maximum Episode Steps: {env.spec.max_episode_steps}\")\n",
    "\n",
    "observation, _ = env.reset()\n",
    "\n",
    "plt.imshow(observation)\n",
    "plt.show()\n"
   ]
  },
  {
   "cell_type": "code",
   "execution_count": 430,
   "metadata": {},
   "outputs": [],
   "source": [
    "def processImage(img):\n",
    "    blur = cv2.GaussianBlur(img, (5,5), 0)\n",
    "    greyImg = cv2.cvtColor(blur, cv2.COLOR_BGR2GRAY)\n",
    "    _, thresholdImage = cv2.threshold(greyImg,150,1,cv2.THRESH_BINARY_INV)\n",
    "    thresholdImage = thresholdImage[:83]\n",
    "    return thresholdImage"
   ]
  },
  {
   "cell_type": "markdown",
   "metadata": {},
   "source": [
    "# Action Space\n",
    "\n",
    "[a,b,c]:\n",
    "\n",
    "    a: Steer, Negative is Left, Positive is Right\n",
    "\n",
    "    b: Accelarate\n",
    "    \n",
    "    c: Decelarate\n",
    "\n"
   ]
  },
  {
   "cell_type": "code",
   "execution_count": 431,
   "metadata": {},
   "outputs": [],
   "source": [
    "ACTIONS = {\n",
    "    0: [1, 0, 0],\n",
    "    1: [-1, 0, 0],\n",
    "    2: [0,0,0.8],\n",
    "    3: [0,1,0],\n",
    "    4: [0,0,0]\n",
    "}\n",
    "\n",
    "IMG_DIMENSION = 83*96\n",
    "\n",
    "EPISODES = 1000\n",
    "GAMMA = 0.3\n",
    "LEARNING_RATE = 0.1"
   ]
  },
  {
   "cell_type": "code",
   "execution_count": 432,
   "metadata": {},
   "outputs": [],
   "source": [
    "for _ in range(1000):\n",
    "    action = np.random.randint(0,5)\n",
    "    observation, reward, terminated, truncated, info = env.step(ACTIONS[action])\n",
    "    processedImg = processImage(observation)\n",
    "    cv2.imshow(\"observation\", processedImg*255)\n",
    "    cv2.waitKey(1)\n",
    "\n",
    "cv2.destroyAllWindows()\n",
    "_, _ = env.reset()"
   ]
  }
 ],
 "metadata": {
  "kernelspec": {
   "display_name": "Python 3.8.10 64-bit",
   "language": "python",
   "name": "python3"
  },
  "language_info": {
   "codemirror_mode": {
    "name": "ipython",
    "version": 3
   },
   "file_extension": ".py",
   "mimetype": "text/x-python",
   "name": "python",
   "nbconvert_exporter": "python",
   "pygments_lexer": "ipython3",
   "version": "3.8.10"
  },
  "orig_nbformat": 4,
  "vscode": {
   "interpreter": {
    "hash": "31f2aee4e71d21fbe5cf8b01ff0e069b9275f58929596ceb00d14d90e3e16cd6"
   }
  }
 },
 "nbformat": 4,
 "nbformat_minor": 2
}
