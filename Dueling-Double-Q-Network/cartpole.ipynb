{
 "cells": [
  {
   "cell_type": "code",
   "execution_count": 1,
   "metadata": {},
   "outputs": [
    {
     "name": "stdout",
     "output_type": "stream",
     "text": [
      "Using cuda device\n"
     ]
    }
   ],
   "source": [
    "import warnings\n",
    "# warnings.filterwarnings(\"ignore\")\n",
    "\n",
    "\n",
    "import torch\n",
    "import torch.nn as nn\n",
    "import torch.optim as optim\n",
    "import numpy as np\n",
    "\n",
    "import numpy as np\n",
    "import gym\n",
    "from tqdm import tqdm\n",
    "\n",
    "import matplotlib.pyplot as plt\n",
    "import collections\n",
    "import random\n",
    "\n",
    "device = \"cuda\" if torch.cuda.is_available() else \"cpu\"\n",
    "print(f\"Using {device} device\")"
   ]
  },
  {
   "cell_type": "code",
   "execution_count": 2,
   "metadata": {},
   "outputs": [],
   "source": [
    "class Network(nn.Module):\n",
    "    def __init__(self, input_dim, action_space, hidden_layers, activation_fn = nn.ReLU):\n",
    "        super(Network, self).__init__()\n",
    "        layers = [nn.Linear(input_dim, hidden_layers[0]), activation_fn()]\n",
    "        for i in range(len(hidden_layers) - 1):\n",
    "            layers.append(nn.Linear(hidden_layers[i], hidden_layers[i+1]))\n",
    "            layers.append(activation_fn())\n",
    "        \n",
    "        self.sequential = nn.Sequential(*layers)\n",
    "        self.value_output = nn.Linear(hidden_layers[-1], 1)\n",
    "        self.advantage_output = nn.Linear(hidden_layers[-1], action_space)\n",
    "    \n",
    "    def forward(self, x):\n",
    "        state = x\n",
    "        \n",
    "        if not isinstance(state, torch.Tensor):\n",
    "            state = torch.FloatTensor(state).to(device)\n",
    "            state  = state.unsqueeze(0)\n",
    "        \n",
    "        hidden_output = self.sequential(state)\n",
    "        value_fn = self.value_output(hidden_output)\n",
    "        advantage_fn = self.advantage_output(hidden_output)\n",
    "        \n",
    "        value_fn = value_fn.expand(advantage_fn.size())\n",
    "        action_fn = value_fn + advantage_fn - advantage_fn.mean(-1, keepdim=True).expand(advantage_fn.size())\n",
    "        return(action_fn)\n"
   ]
  },
  {
   "cell_type": "code",
   "execution_count": 3,
   "metadata": {},
   "outputs": [],
   "source": [
    "class DuelingDQN():\n",
    "    def __init__(self, env):\n",
    "        self.env_name = env\n",
    "        self.env = gym.make(env)\n",
    "        self.state = self.env.reset()[0]\n",
    "        self.online_model = Network(len(self.state), self.env.action_space.n, (256, 128)).to(device)\n",
    "        self.target_model = Network(len(self.state), self.env.action_space.n, (256, 128)).to(device)\n",
    "        self.target_model.load_state_dict(self.online_model.state_dict())\n",
    "        \n",
    "        #Hyperparameters\n",
    "        self.epsilon = 0.5\n",
    "        self.min_epsilon = 0.01\n",
    "        self.decay = (self.epsilon - self.min_epsilon) / 10000\n",
    "        self.gamma = 0.95\n",
    "        self.tau = 0.15\n",
    "        self.lr = 1e-4\n",
    "        self.buffer_size = int(1e6)\n",
    "        self.min_buffer_size = 320\n",
    "        self.mini_batch_size = 64\n",
    "        \n",
    "        #Other variables\n",
    "        self.optimizer = optim.Adam(self.online_model.parameters(), self.lr)\n",
    "        self.loss_fn = nn.MSELoss()\n",
    "        self.replay_buffer = collections.deque(maxlen=self.buffer_size)\n",
    "        \n",
    "        self.eval_returns = []\n",
    "    \n",
    "    def optimise(self, experiences):\n",
    "        states = [experience[0] for experience in experiences]\n",
    "        actions = [experience[1] for experience in experiences]\n",
    "        rewards = [experience[2] for experience in experiences]\n",
    "        next_states = [experience[3] for experience in experiences] \n",
    "        is_terminals = [experience[4] for experience in experiences]\n",
    "        \n",
    "        action_values = self.online_model(np.array(states)).squeeze()\n",
    "        idxs = torch.tensor(actions).to(device).long().unsqueeze(1)\n",
    "        action_values = action_values.gather(1, idxs)\n",
    "        \n",
    "        with torch.no_grad():\n",
    "            next_action_values = self.target_model(np.array(next_states)).detach().squeeze()\n",
    "            next_action_values, _ = next_action_values.max(dim=1)\n",
    "            \n",
    "        target = np.array(rewards) + self.gamma*np.array(next_action_values.cpu())*(1-np.array(is_terminals))\n",
    "        \n",
    "        target = torch.from_numpy(target).to(device).unsqueeze(1).float()\n",
    "        \n",
    "        loss = self.loss_fn(action_values, target)\n",
    "        self.optimizer.zero_grad()\n",
    "        loss.backward()\n",
    "        self.optimizer.step() \n",
    "        \n",
    "    def step(self, optimise  = True, update = True):\n",
    "        if random.random() <= self.epsilon:\n",
    "            action = self.env.action_space.sample()\n",
    "        else:\n",
    "            with torch.no_grad():\n",
    "                action_values = self.online_model(self.state).detach()\n",
    "                action = int(torch.argmax(action_values.squeeze()))\n",
    "            \n",
    "        next_state, reward, terminated, truncated , info = self.env.step(action)\n",
    "        \n",
    "        self.epsilon = max(self.epsilon - self.decay, self.min_epsilon)\n",
    "        \n",
    "        self.replay_buffer.append((self.state, action, reward, next_state, terminated and not truncated))\n",
    "        \n",
    "        self.state = next_state\n",
    "        \n",
    "        if terminated or truncated:\n",
    "            self.state = self.env.reset()[0]\n",
    "        \n",
    "        if optimise and len(self.replay_buffer) >= self.min_buffer_size:\n",
    "            self.optimise(random.sample(self.replay_buffer, self.mini_batch_size))\n",
    "        \n",
    "        if update:\n",
    "            for target_param, online_param in zip(self.target_model.parameters(), self.online_model.parameters()):\n",
    "                target_param.data.copy_(self.tau*online_param.data + (1.0-self.tau)*target_param.data)\n",
    "    \n",
    "    def eval_model(self, render):\n",
    "        with torch.no_grad():\n",
    "            eval_env = gym.make(self.env_name, render_mode = \"human\" if render else None)\n",
    "            eval_episodes = 10\n",
    "            for episode in range(eval_episodes):\n",
    "                state = eval_env.reset()[0]\n",
    "                done = False\n",
    "                total_return = 0\n",
    "                while not done:\n",
    "                    action_values = self.online_model(state)\n",
    "                    action = int(torch.argmax(action_values.squeeze()))\n",
    "                    next_state, reward, terminated, truncated , info = eval_env.step(action)\n",
    "                    if render:\n",
    "                        eval_env.render()\n",
    "                    done = terminated or truncated\n",
    "                    \n",
    "                    total_return += reward\n",
    "                    state = next_state\n",
    "                self.eval_returns.append(total_return)\n",
    "            return np.mean(self.eval_returns[len(self.eval_returns) - eval_episodes: ])\n",
    "    \n",
    "    def plot_results(self):\n",
    "        plt.plot(range(len(self.eval_returns)), self.eval_returns)\n",
    "        plt.xlabel(\"Episode\")\n",
    "        plt.ylabel(\"Score\")\n",
    "        plt.show()\n",
    "                \n",
    "    def train(self, time_stamps, eval_time_stamps, plot_time_stamps):\n",
    "        for time_stamp in tqdm(range(1, time_stamps + 1)):\n",
    "            self.step()\n",
    "            \n",
    "            if(time_stamp % eval_time_stamps) == 0:\n",
    "                if self.eval_model(False) > 480.0:\n",
    "                    print(\"Solved CartPole!\")\n",
    "                    break\n",
    "            \n",
    "            if(time_stamp % plot_time_stamps) == 0:\n",
    "                self.plot_results()\n"
   ]
  },
  {
   "cell_type": "code",
   "execution_count": 4,
   "metadata": {},
   "outputs": [
    {
     "name": "stderr",
     "output_type": "stream",
     "text": [
      " 10%|▉         | 2990/30000 [00:19<03:26, 130.54it/s]"
     ]
    },
    {
     "data": {
      "image/png": "[encoded data removed]",
      "text/plain": [
       "<Figure size 640x480 with 1 Axes>"
      ]
     },
     "metadata": {},
     "output_type": "display_data"
    },
    {
     "name": "stderr",
     "output_type": "stream",
     "text": [
      " 11%|█         | 3218/30000 [00:22<03:20, 133.89it/s]"
     ]
    }
   ],
   "source": [
    "agent = DuelingDQN(\"CartPole-v1\")\n",
    "agent.train(30000, 250, 3000)\n",
    "\n",
    "torch.save(agent.online_model, \"model.pth\")"
   ]
  },
  {
   "cell_type": "code",
   "execution_count": null,
   "metadata": {},
   "outputs": [],
   "source": [
    "agent.eval_model(True)"
   ]
  }
 ],
 "metadata": {
  "kernelspec": {
   "display_name": "Python 3",
   "language": "python",
   "name": "python3"
  },
  "language_info": {
   "codemirror_mode": {
    "name": "ipython",
    "version": 3
   },
   "file_extension": ".py",
   "mimetype": "text/x-python",
   "name": "python",
   "nbconvert_exporter": "python",
   "pygments_lexer": "ipython3",
   "version": "3.8.10"
  },
  "orig_nbformat": 4,
  "vscode": {
   "interpreter": {
    "hash": "31f2aee4e71d21fbe5cf8b01ff0e069b9275f58929596ceb00d14d90e3e16cd6"
   }
  }
 },
 "nbformat": 4,
 "nbformat_minor": 2
}
