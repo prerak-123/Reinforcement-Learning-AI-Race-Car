{
 "cells": [
  {
   "cell_type": "code",
   "execution_count": 147,
   "metadata": {},
   "outputs": [],
   "source": [
    "import numpy as np"
   ]
  },
  {
   "cell_type": "code",
   "execution_count": 148,
   "metadata": {},
   "outputs": [],
   "source": [
    "GAMMA = 0.9\n",
    "\n",
    "MAX_CARS = 20\n",
    "MAX_CAR_TRANSFERS = 5   \n",
    "EPSILON = 0.5\n",
    "COST = -2\n",
    "\n",
    "ACTIONS = [-5,-4,-3,-2,-1,0,1,2,3,4,5]\n",
    "\n",
    "policy = np.zeros(shape=(MAX_CARS + 1, MAX_CARS + 1), dtype=int)\n",
    "value_function = np.zeros(shape=(MAX_CARS + 1, MAX_CARS + 1))\n",
    "\n",
    "firstFactory= np.load(\"firstFactory.npy\")\n",
    "secondFactory = np.load(\"secondFactory.npy\")\n",
    "\n",
    "rewardsFirst = np.load(\"rewardsFirst.npy\")\n",
    "rewardsSecond = np.load(\"rewardsSecond.npy\")\n"
   ]
  },
  {
   "cell_type": "code",
   "execution_count": 149,
   "metadata": {},
   "outputs": [],
   "source": [
    "def update_value_function():\n",
    "    while True:\n",
    "        delta = 0\n",
    "        for carFirst in range(MAX_CARS + 1):\n",
    "            for carSecond in range(MAX_CARS + 1):\n",
    "                v = value_function[carFirst, carSecond]\n",
    "                action = policy[carFirst, carSecond]\n",
    "                \n",
    "                finalFirst = carFirst - action\n",
    "                finalSecond = carSecond + action\n",
    "\n",
    "                reward = COST*np.abs(action)\n",
    "\n",
    "                new_value = 0\n",
    "                for possibleFinalFirst in range(MAX_CARS + 1):\n",
    "                    for possibleFinalSecond in range(MAX_CARS + 1):\n",
    "                        new_value += firstFactory[finalFirst, possibleFinalFirst]*secondFactory[finalSecond, possibleFinalSecond]*(reward + rewardsFirst[finalFirst, possibleFinalFirst] + rewardsSecond[finalSecond, possibleFinalSecond] + GAMMA*value_function[possibleFinalFirst, possibleFinalSecond])\n",
    "                \n",
    "                delta = max(delta, np.abs(v - new_value))\n",
    "                value_function[carFirst, carSecond] = new_value\n",
    "        \n",
    "        if delta < EPSILON:\n",
    "            break\n",
    "\n",
    "def update_policy():\n",
    "    correct = True\n",
    "    for carFirst in range(MAX_CARS + 1):\n",
    "        for carSecond in range(MAX_CARS + 1):\n",
    "            max_action = 0\n",
    "            max_value = -10000\n",
    "            for action in ACTIONS:\n",
    "                if ((action >= 0 and carFirst - action >= 0 and carSecond + action <= 20) or (action < 0 and carFirst - action <= 20 and carSecond + action >= 0)):\n",
    "                    finalFirst = carFirst - action\n",
    "                    finalSecond = carSecond + action\n",
    "                    \n",
    "                    reward = COST*np.abs(action)\n",
    "                    new_value = 0\n",
    "                    for possibleFinalFirst in range(MAX_CARS + 1):\n",
    "                        for possibleFinalSecond in range(MAX_CARS + 1):\n",
    "                            new_value += firstFactory[finalFirst, possibleFinalFirst]*secondFactory[finalSecond, possibleFinalSecond]*(reward + rewardsFirst[finalFirst, possibleFinalFirst] + rewardsSecond[finalSecond, possibleFinalSecond] + GAMMA*value_function[possibleFinalFirst, possibleFinalSecond])\n",
    "                    \n",
    "                    if(new_value > max_value):\n",
    "                        max_value = new_value\n",
    "                        max_action = action\n",
    "            \n",
    "            if not (policy[carFirst, carSecond] == max_action):\n",
    "                correct = False\n",
    "            policy[carFirst, carSecond] = max_action\n",
    "    return correct\n",
    "            \n"
   ]
  },
  {
   "cell_type": "code",
   "execution_count": 150,
   "metadata": {},
   "outputs": [],
   "source": [
    "while True:\n",
    "    update_value_function()\n",
    "    if(update_policy()):\n",
    "        break\n",
    "\n",
    "np.save(\"value_function\", value_function)\n",
    "np.save(\"policy\", policy)"
   ]
  }
 ],
 "metadata": {
  "kernelspec": {
   "display_name": "Python 3.8.10 64-bit",
   "language": "python",
   "name": "python3"
  },
  "language_info": {
   "codemirror_mode": {
    "name": "ipython",
    "version": 3
   },
   "file_extension": ".py",
   "mimetype": "text/x-python",
   "name": "python",
   "nbconvert_exporter": "python",
   "pygments_lexer": "ipython3",
   "version": "3.8.10"
  },
  "orig_nbformat": 4,
  "vscode": {
   "interpreter": {
    "hash": "31f2aee4e71d21fbe5cf8b01ff0e069b9275f58929596ceb00d14d90e3e16cd6"
   }
  }
 },
 "nbformat": 4,
 "nbformat_minor": 2
}
