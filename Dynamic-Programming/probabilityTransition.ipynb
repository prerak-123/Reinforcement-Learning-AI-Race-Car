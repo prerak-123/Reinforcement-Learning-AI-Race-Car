{
 "cells": [
  {
   "cell_type": "code",
   "execution_count": 153,
   "metadata": {},
   "outputs": [],
   "source": [
    "import numpy as np\n",
    "import matplotlib.pyplot as plt"
   ]
  },
  {
   "cell_type": "code",
   "execution_count": 154,
   "metadata": {},
   "outputs": [],
   "source": [
    "MAX_CARS = 20\n",
    "NUM_EXPERIMENTS = MAX_CARS*1000\n",
    "REWARD_PER_CAR = 10\n",
    "\n",
    "FIRST_LAMBDA_REQUEST = 3\n",
    "SECOND_LAMBDA_REQUEST = 4\n",
    "\n",
    "FIRST_LAMBDA_RETURN = 3\n",
    "SECOND_LAMBDA_RETURN = 2"
   ]
  },
  {
   "cell_type": "code",
   "execution_count": 155,
   "metadata": {},
   "outputs": [],
   "source": [
    "def getProbabilities(lambda1, lambda2):\n",
    "    probabilities = np.zeros(shape=(MAX_CARS + 1, MAX_CARS + 1))\n",
    "    averageRewards = np.zeros(shape=(MAX_CARS + 1, MAX_CARS + 1))\n",
    "    for initCars in range(MAX_CARS + 1):\n",
    "        finalCars = []\n",
    "        rewards = []\n",
    "        \n",
    "        for _ in range(NUM_EXPERIMENTS):\n",
    "            carsRequested = np.random.poisson(lambda1)\n",
    "            if(initCars < carsRequested):\n",
    "                finalCars.append(0)\n",
    "                rewards.append(0)\n",
    "                continue\n",
    "            carsReturned = np.random.poisson(lambda2)\n",
    "            finalCars.append(min(MAX_CARS, initCars - carsRequested + carsReturned))\n",
    "            rewards.append(carsRequested*REWARD_PER_CAR)\n",
    "        finalCars = np.array(finalCars)\n",
    "        rewards = np.array(rewards)\n",
    "        \n",
    "        for finalCar in range(MAX_CARS + 1):\n",
    "            probabilities[initCars][finalCar] = len(finalCars[finalCars == finalCar])/NUM_EXPERIMENTS\n",
    "            if len(finalCars[finalCars == finalCar]) > 0:\n",
    "                averageRewards[initCars][finalCar] = np.mean(rewards[finalCars == finalCar])\n",
    "            \n",
    "    \n",
    "    return probabilities, averageRewards"
   ]
  },
  {
   "cell_type": "code",
   "execution_count": 156,
   "metadata": {},
   "outputs": [],
   "source": [
    "firstFactory, avgRewardFirst = getProbabilities(FIRST_LAMBDA_REQUEST, FIRST_LAMBDA_RETURN)\n",
    "secondFactory, avgRewardSecond = getProbabilities(SECOND_LAMBDA_REQUEST, SECOND_LAMBDA_RETURN)\n",
    "\n",
    "\n",
    "np.save(\"firstFactory\", firstFactory)\n",
    "np.save(\"secondFactory\", secondFactory)\n",
    "\n",
    "np.save(\"rewardsFirst\", avgRewardFirst)\n",
    "np.save(\"rewardsSecond\", avgRewardSecond)"
   ]
  }
 ],
 "metadata": {
  "kernelspec": {
   "display_name": "Python 3.8.10 64-bit",
   "language": "python",
   "name": "python3"
  },
  "language_info": {
   "codemirror_mode": {
    "name": "ipython",
    "version": 3
   },
   "file_extension": ".py",
   "mimetype": "text/x-python",
   "name": "python",
   "nbconvert_exporter": "python",
   "pygments_lexer": "ipython3",
   "version": "3.8.10"
  },
  "orig_nbformat": 4,
  "vscode": {
   "interpreter": {
    "hash": "31f2aee4e71d21fbe5cf8b01ff0e069b9275f58929596ceb00d14d90e3e16cd6"
   }
  }
 },
 "nbformat": 4,
 "nbformat_minor": 2
}
